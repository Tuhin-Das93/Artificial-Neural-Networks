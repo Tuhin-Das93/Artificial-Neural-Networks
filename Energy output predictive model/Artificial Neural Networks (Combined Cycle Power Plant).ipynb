{
 "cells": [
  {
   "cell_type": "markdown",
   "id": "e62730b3",
   "metadata": {},
   "source": [
    "### Importing the libraries"
   ]
  },
  {
   "cell_type": "code",
   "execution_count": 1,
   "id": "23bb8781",
   "metadata": {},
   "outputs": [],
   "source": [
    "import pandas as pd\n",
    "import numpy as np\n",
    "import tensorflow as tf"
   ]
  },
  {
   "cell_type": "markdown",
   "id": "bef44303",
   "metadata": {},
   "source": [
    "### Reading the dataset"
   ]
  },
  {
   "cell_type": "code",
   "execution_count": 2,
   "id": "dfe5efd0",
   "metadata": {},
   "outputs": [
    {
     "data": {
      "text/html": [
       "<div>\n",
       "<style scoped>\n",
       "    .dataframe tbody tr th:only-of-type {\n",
       "        vertical-align: middle;\n",
       "    }\n",
       "\n",
       "    .dataframe tbody tr th {\n",
       "        vertical-align: top;\n",
       "    }\n",
       "\n",
       "    .dataframe thead th {\n",
       "        text-align: right;\n",
       "    }\n",
       "</style>\n",
       "<table border=\"1\" class=\"dataframe\">\n",
       "  <thead>\n",
       "    <tr style=\"text-align: right;\">\n",
       "      <th></th>\n",
       "      <th>AT</th>\n",
       "      <th>V</th>\n",
       "      <th>AP</th>\n",
       "      <th>RH</th>\n",
       "      <th>PE</th>\n",
       "    </tr>\n",
       "  </thead>\n",
       "  <tbody>\n",
       "    <tr>\n",
       "      <th>0</th>\n",
       "      <td>14.96</td>\n",
       "      <td>41.76</td>\n",
       "      <td>1024.07</td>\n",
       "      <td>73.17</td>\n",
       "      <td>463.26</td>\n",
       "    </tr>\n",
       "    <tr>\n",
       "      <th>1</th>\n",
       "      <td>25.18</td>\n",
       "      <td>62.96</td>\n",
       "      <td>1020.04</td>\n",
       "      <td>59.08</td>\n",
       "      <td>444.37</td>\n",
       "    </tr>\n",
       "    <tr>\n",
       "      <th>2</th>\n",
       "      <td>5.11</td>\n",
       "      <td>39.40</td>\n",
       "      <td>1012.16</td>\n",
       "      <td>92.14</td>\n",
       "      <td>488.56</td>\n",
       "    </tr>\n",
       "    <tr>\n",
       "      <th>3</th>\n",
       "      <td>20.86</td>\n",
       "      <td>57.32</td>\n",
       "      <td>1010.24</td>\n",
       "      <td>76.64</td>\n",
       "      <td>446.48</td>\n",
       "    </tr>\n",
       "    <tr>\n",
       "      <th>4</th>\n",
       "      <td>10.82</td>\n",
       "      <td>37.50</td>\n",
       "      <td>1009.23</td>\n",
       "      <td>96.62</td>\n",
       "      <td>473.90</td>\n",
       "    </tr>\n",
       "  </tbody>\n",
       "</table>\n",
       "</div>"
      ],
      "text/plain": [
       "      AT      V       AP     RH      PE\n",
       "0  14.96  41.76  1024.07  73.17  463.26\n",
       "1  25.18  62.96  1020.04  59.08  444.37\n",
       "2   5.11  39.40  1012.16  92.14  488.56\n",
       "3  20.86  57.32  1010.24  76.64  446.48\n",
       "4  10.82  37.50  1009.23  96.62  473.90"
      ]
     },
     "execution_count": 2,
     "metadata": {},
     "output_type": "execute_result"
    }
   ],
   "source": [
    "df = pd.read_excel(\"Folds5x2_pp.xlsx\")\n",
    "df.head()"
   ]
  },
  {
   "cell_type": "markdown",
   "id": "f62eace0",
   "metadata": {},
   "source": [
    "### Separating the X (dependent variable) and y(independent variables)"
   ]
  },
  {
   "cell_type": "code",
   "execution_count": 3,
   "id": "a5147cf1",
   "metadata": {},
   "outputs": [],
   "source": [
    "X = df.iloc[:, :-1].values\n",
    "y = df.iloc[:, -1].values"
   ]
  },
  {
   "cell_type": "code",
   "execution_count": 4,
   "id": "5d653ee5",
   "metadata": {},
   "outputs": [
    {
     "name": "stdout",
     "output_type": "stream",
     "text": [
      "[[  14.96   41.76 1024.07   73.17]\n",
      " [  25.18   62.96 1020.04   59.08]\n",
      " [   5.11   39.4  1012.16   92.14]\n",
      " ...\n",
      " [  31.32   74.33 1012.92   36.48]\n",
      " [  24.48   69.45 1013.86   62.39]\n",
      " [  21.6    62.52 1017.23   67.87]]\n"
     ]
    }
   ],
   "source": [
    "print(X)"
   ]
  },
  {
   "cell_type": "code",
   "execution_count": 5,
   "id": "930dd056",
   "metadata": {},
   "outputs": [
    {
     "name": "stdout",
     "output_type": "stream",
     "text": [
      "[463.26 444.37 488.56 ... 429.57 435.74 453.28]\n"
     ]
    }
   ],
   "source": [
    "print(y)"
   ]
  },
  {
   "cell_type": "markdown",
   "id": "88c36e73",
   "metadata": {},
   "source": [
    "### Train-Test Split"
   ]
  },
  {
   "cell_type": "code",
   "execution_count": 6,
   "id": "9e5cf86c",
   "metadata": {},
   "outputs": [],
   "source": [
    "from sklearn.model_selection import train_test_split\n",
    "X_train, X_test, y_train, y_test = train_test_split(X, y, test_size=0.2, random_state=0)"
   ]
  },
  {
   "cell_type": "markdown",
   "id": "491250e6",
   "metadata": {},
   "source": [
    "### Building the ANN"
   ]
  },
  {
   "cell_type": "code",
   "execution_count": 7,
   "id": "3ca5be7a",
   "metadata": {},
   "outputs": [],
   "source": [
    "### Initializing the ann\n",
    "ann = tf.keras.models.Sequential()"
   ]
  },
  {
   "cell_type": "code",
   "execution_count": 8,
   "id": "cde0ddea",
   "metadata": {},
   "outputs": [],
   "source": [
    "### Adding the input and first hidden layer\n",
    "ann.add(tf.keras.layers.Dense(units = 6, activation = 'relu'))"
   ]
  },
  {
   "cell_type": "code",
   "execution_count": 9,
   "id": "09d4d460",
   "metadata": {},
   "outputs": [],
   "source": [
    "### Adding the second hidden layer\n",
    "ann.add(tf.keras.layers.Dense(units = 6, activation = 'relu'))"
   ]
  },
  {
   "cell_type": "code",
   "execution_count": 10,
   "id": "f4d0647c",
   "metadata": {},
   "outputs": [],
   "source": [
    "### Adding the output layer\n",
    "ann.add(tf.keras.layers.Dense(units = 1))"
   ]
  },
  {
   "cell_type": "markdown",
   "id": "c6ed2622",
   "metadata": {},
   "source": [
    "### Training the ANN"
   ]
  },
  {
   "cell_type": "code",
   "execution_count": 11,
   "id": "4d5715fb",
   "metadata": {},
   "outputs": [],
   "source": [
    "### Compiling the ann\n",
    "ann.compile(optimizer= 'adam', loss = 'mean_squared_error')"
   ]
  },
  {
   "cell_type": "code",
   "execution_count": 12,
   "id": "bdef017c",
   "metadata": {},
   "outputs": [
    {
     "name": "stdout",
     "output_type": "stream",
     "text": [
      "Epoch 1/100\n",
      "240/240 [==============================] - 1s 3ms/step - loss: 651522.6250\n",
      "Epoch 2/100\n",
      "240/240 [==============================] - 1s 3ms/step - loss: 153405.5312\n",
      "Epoch 3/100\n",
      "240/240 [==============================] - 1s 2ms/step - loss: 22256.5078\n",
      "Epoch 4/100\n",
      "240/240 [==============================] - 1s 5ms/step - loss: 1010.9641\n",
      "Epoch 5/100\n",
      "240/240 [==============================] - 1s 4ms/step - loss: 347.9484\n",
      "Epoch 6/100\n",
      "240/240 [==============================] - 1s 4ms/step - loss: 342.5429\n",
      "Epoch 7/100\n",
      "240/240 [==============================] - 1s 4ms/step - loss: 340.2274\n",
      "Epoch 8/100\n",
      "240/240 [==============================] - 1s 4ms/step - loss: 337.7890\n",
      "Epoch 9/100\n",
      "240/240 [==============================] - 1s 4ms/step - loss: 334.7868\n",
      "Epoch 10/100\n",
      "240/240 [==============================] - 1s 4ms/step - loss: 331.3286\n",
      "Epoch 11/100\n",
      "240/240 [==============================] - 1s 3ms/step - loss: 327.6741\n",
      "Epoch 12/100\n",
      "240/240 [==============================] - 0s 2ms/step - loss: 323.3132\n",
      "Epoch 13/100\n",
      "240/240 [==============================] - 0s 1ms/step - loss: 318.6353\n",
      "Epoch 14/100\n",
      "240/240 [==============================] - 0s 1ms/step - loss: 313.3101\n",
      "Epoch 15/100\n",
      "240/240 [==============================] - 0s 1ms/step - loss: 307.4972\n",
      "Epoch 16/100\n",
      "240/240 [==============================] - 0s 1ms/step - loss: 301.0793\n",
      "Epoch 17/100\n",
      "240/240 [==============================] - 0s 1ms/step - loss: 293.8103\n",
      "Epoch 18/100\n",
      "240/240 [==============================] - 0s 1ms/step - loss: 286.0576\n",
      "Epoch 19/100\n",
      "240/240 [==============================] - 0s 1ms/step - loss: 277.3834\n",
      "Epoch 20/100\n",
      "240/240 [==============================] - 0s 1ms/step - loss: 268.4297\n",
      "Epoch 21/100\n",
      "240/240 [==============================] - 0s 1ms/step - loss: 258.1101\n",
      "Epoch 22/100\n",
      "240/240 [==============================] - 0s 1ms/step - loss: 247.5739\n",
      "Epoch 23/100\n",
      "240/240 [==============================] - 0s 1ms/step - loss: 235.6218\n",
      "Epoch 24/100\n",
      "240/240 [==============================] - 0s 1ms/step - loss: 223.8899\n",
      "Epoch 25/100\n",
      "240/240 [==============================] - 0s 1ms/step - loss: 210.7857\n",
      "Epoch 26/100\n",
      "240/240 [==============================] - 0s 1ms/step - loss: 197.5942\n",
      "Epoch 27/100\n",
      "240/240 [==============================] - 0s 1ms/step - loss: 183.7734\n",
      "Epoch 28/100\n",
      "240/240 [==============================] - ETA: 0s - loss: 171.291 - 0s 1ms/step - loss: 169.7852\n",
      "Epoch 29/100\n",
      "240/240 [==============================] - 0s 1ms/step - loss: 155.7968\n",
      "Epoch 30/100\n",
      "240/240 [==============================] - 0s 1ms/step - loss: 141.9298\n",
      "Epoch 31/100\n",
      "240/240 [==============================] - 0s 1ms/step - loss: 128.8247\n",
      "Epoch 32/100\n",
      "240/240 [==============================] - 0s 1ms/step - loss: 115.2373\n",
      "Epoch 33/100\n",
      "240/240 [==============================] - 0s 1ms/step - loss: 103.0089\n",
      "Epoch 34/100\n",
      "240/240 [==============================] - 0s 1ms/step - loss: 91.8895\n",
      "Epoch 35/100\n",
      "240/240 [==============================] - 0s 1ms/step - loss: 81.9275\n",
      "Epoch 36/100\n",
      "240/240 [==============================] - 0s 1ms/step - loss: 73.2240\n",
      "Epoch 37/100\n",
      "240/240 [==============================] - 0s 1ms/step - loss: 65.4269\n",
      "Epoch 38/100\n",
      "240/240 [==============================] - 0s 1ms/step - loss: 59.1017\n",
      "Epoch 39/100\n",
      "240/240 [==============================] - 0s 1ms/step - loss: 53.7286\n",
      "Epoch 40/100\n",
      "240/240 [==============================] - 0s 1ms/step - loss: 49.4213\n",
      "Epoch 41/100\n",
      "240/240 [==============================] - 0s 1ms/step - loss: 45.7716\n",
      "Epoch 42/100\n",
      "240/240 [==============================] - 0s 1ms/step - loss: 42.6506\n",
      "Epoch 43/100\n",
      "240/240 [==============================] - 0s 1ms/step - loss: 40.4232\n",
      "Epoch 44/100\n",
      "240/240 [==============================] - 0s 1ms/step - loss: 38.0323\n",
      "Epoch 45/100\n",
      "240/240 [==============================] - 0s 1ms/step - loss: 36.5577\n",
      "Epoch 46/100\n",
      "240/240 [==============================] - 0s 1ms/step - loss: 35.1653\n",
      "Epoch 47/100\n",
      "240/240 [==============================] - 0s 1ms/step - loss: 34.2616\n",
      "Epoch 48/100\n",
      "240/240 [==============================] - 0s 1ms/step - loss: 33.3485\n",
      "Epoch 49/100\n",
      "240/240 [==============================] - 0s 1ms/step - loss: 32.1822\n",
      "Epoch 50/100\n",
      "240/240 [==============================] - 0s 1ms/step - loss: 31.9888\n",
      "Epoch 51/100\n",
      "240/240 [==============================] - 0s 1ms/step - loss: 31.3579\n",
      "Epoch 52/100\n",
      "240/240 [==============================] - 0s 1ms/step - loss: 31.1554\n",
      "Epoch 53/100\n",
      "240/240 [==============================] - 0s 1ms/step - loss: 30.6263\n",
      "Epoch 54/100\n",
      "240/240 [==============================] - 0s 1ms/step - loss: 30.0548\n",
      "Epoch 55/100\n",
      "240/240 [==============================] - 0s 1ms/step - loss: 29.6987\n",
      "Epoch 56/100\n",
      "240/240 [==============================] - 0s 1ms/step - loss: 29.4878\n",
      "Epoch 57/100\n",
      "240/240 [==============================] - 0s 1ms/step - loss: 29.3501\n",
      "Epoch 58/100\n",
      "240/240 [==============================] - 0s 1ms/step - loss: 29.7039\n",
      "Epoch 59/100\n",
      "240/240 [==============================] - 0s 1ms/step - loss: 28.9398\n",
      "Epoch 60/100\n",
      "240/240 [==============================] - 0s 1ms/step - loss: 28.6170\n",
      "Epoch 61/100\n",
      "240/240 [==============================] - 0s 1ms/step - loss: 28.7320\n",
      "Epoch 62/100\n",
      "240/240 [==============================] - 0s 1ms/step - loss: 28.3568\n",
      "Epoch 63/100\n",
      "240/240 [==============================] - 0s 1ms/step - loss: 28.0787\n",
      "Epoch 64/100\n",
      "240/240 [==============================] - 0s 1ms/step - loss: 28.7314\n",
      "Epoch 65/100\n",
      "240/240 [==============================] - 0s 1ms/step - loss: 28.1842\n",
      "Epoch 66/100\n",
      "240/240 [==============================] - 0s 1ms/step - loss: 28.1152\n",
      "Epoch 67/100\n",
      "240/240 [==============================] - 0s 1ms/step - loss: 27.7904\n",
      "Epoch 68/100\n",
      "240/240 [==============================] - 0s 1ms/step - loss: 27.6985\n",
      "Epoch 69/100\n",
      "240/240 [==============================] - 0s 1ms/step - loss: 27.8869\n",
      "Epoch 70/100\n",
      "240/240 [==============================] - 0s 1ms/step - loss: 27.4213\n",
      "Epoch 71/100\n",
      "240/240 [==============================] - 0s 1ms/step - loss: 27.6208\n",
      "Epoch 72/100\n",
      "240/240 [==============================] - 0s 1ms/step - loss: 27.1249\n",
      "Epoch 73/100\n",
      "240/240 [==============================] - 0s 1ms/step - loss: 27.1879\n",
      "Epoch 74/100\n",
      "240/240 [==============================] - 0s 1ms/step - loss: 26.9825\n",
      "Epoch 75/100\n",
      "240/240 [==============================] - 0s 1ms/step - loss: 27.1386\n",
      "Epoch 76/100\n",
      "240/240 [==============================] - 0s 1ms/step - loss: 27.4445\n",
      "Epoch 77/100\n",
      "240/240 [==============================] - 0s 1ms/step - loss: 27.0488\n",
      "Epoch 78/100\n",
      "240/240 [==============================] - 0s 1ms/step - loss: 27.3887\n",
      "Epoch 79/100\n",
      "240/240 [==============================] - 0s 1ms/step - loss: 26.6957\n",
      "Epoch 80/100\n",
      "240/240 [==============================] - 0s 1ms/step - loss: 27.1621\n",
      "Epoch 81/100\n",
      "240/240 [==============================] - 0s 1ms/step - loss: 27.7502\n",
      "Epoch 82/100\n",
      "240/240 [==============================] - 0s 1ms/step - loss: 26.2697\n",
      "Epoch 83/100\n",
      "240/240 [==============================] - 0s 1ms/step - loss: 27.1893\n",
      "Epoch 84/100\n",
      "240/240 [==============================] - 0s 1ms/step - loss: 26.7333\n",
      "Epoch 85/100\n",
      "240/240 [==============================] - 0s 1ms/step - loss: 26.6233\n",
      "Epoch 86/100\n",
      "240/240 [==============================] - 0s 1ms/step - loss: 27.4635\n",
      "Epoch 87/100\n",
      "240/240 [==============================] - 0s 1ms/step - loss: 26.7088\n",
      "Epoch 88/100\n",
      "240/240 [==============================] - 0s 1ms/step - loss: 26.8301\n",
      "Epoch 89/100\n",
      "240/240 [==============================] - 0s 1ms/step - loss: 27.1028\n",
      "Epoch 90/100\n",
      "240/240 [==============================] - 0s 1ms/step - loss: 26.6235\n",
      "Epoch 91/100\n",
      "240/240 [==============================] - 0s 1ms/step - loss: 26.5545\n",
      "Epoch 92/100\n",
      "240/240 [==============================] - 0s 1ms/step - loss: 26.6048\n",
      "Epoch 93/100\n",
      "240/240 [==============================] - 0s 1ms/step - loss: 26.8029\n",
      "Epoch 94/100\n",
      "240/240 [==============================] - 0s 1ms/step - loss: 26.7848\n",
      "Epoch 95/100\n",
      "240/240 [==============================] - 0s 1ms/step - loss: 26.6968\n",
      "Epoch 96/100\n",
      "240/240 [==============================] - 0s 1ms/step - loss: 26.4157\n",
      "Epoch 97/100\n"
     ]
    },
    {
     "name": "stdout",
     "output_type": "stream",
     "text": [
      "240/240 [==============================] - 0s 1ms/step - loss: 27.6342\n",
      "Epoch 98/100\n",
      "240/240 [==============================] - 0s 1ms/step - loss: 26.1837\n",
      "Epoch 99/100\n",
      "240/240 [==============================] - 0s 1ms/step - loss: 26.9389\n",
      "Epoch 100/100\n",
      "240/240 [==============================] - 0s 1ms/step - loss: 26.5077\n"
     ]
    },
    {
     "data": {
      "text/plain": [
       "<keras.callbacks.History at 0x1ff050f4310>"
      ]
     },
     "execution_count": 12,
     "metadata": {},
     "output_type": "execute_result"
    }
   ],
   "source": [
    "### Training the model on the training set\n",
    "ann.fit(X_train, y_train, epochs=100, batch_size= 32)"
   ]
  },
  {
   "cell_type": "markdown",
   "id": "7c17b83e",
   "metadata": {},
   "source": [
    "### Predicting the result on the test set"
   ]
  },
  {
   "cell_type": "code",
   "execution_count": 13,
   "id": "2e252c09",
   "metadata": {},
   "outputs": [
    {
     "name": "stdout",
     "output_type": "stream",
     "text": [
      "[[430.74 431.23]\n",
      " [462.   460.01]\n",
      " [465.61 461.14]\n",
      " ...\n",
      " [472.61 473.26]\n",
      " [439.89 438.  ]\n",
      " [458.9  463.28]]\n"
     ]
    }
   ],
   "source": [
    "y_pred = ann.predict(X_test)\n",
    "np.set_printoptions(precision=2)\n",
    "print(np.concatenate((y_pred.reshape(len(y_pred), 1), y_test.reshape(len(y_test),1)),1))"
   ]
  },
  {
   "cell_type": "code",
   "execution_count": null,
   "id": "3b40dbd2",
   "metadata": {},
   "outputs": [],
   "source": []
  }
 ],
 "metadata": {
  "kernelspec": {
   "display_name": "Python 3",
   "language": "python",
   "name": "python3"
  },
  "language_info": {
   "codemirror_mode": {
    "name": "ipython",
    "version": 3
   },
   "file_extension": ".py",
   "mimetype": "text/x-python",
   "name": "python",
   "nbconvert_exporter": "python",
   "pygments_lexer": "ipython3",
   "version": "3.8.8"
  }
 },
 "nbformat": 4,
 "nbformat_minor": 5
}
